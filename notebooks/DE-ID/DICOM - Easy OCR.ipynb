{
 "cells": [
  {
   "cell_type": "markdown",
   "metadata": {
    "application/vnd.databricks.v1+cell": {
     "cellMetadata": {},
     "inputWidgets": {},
     "nuid": "6a671940-c0fe-46b6-bb9d-8ee8d1d85f8a",
     "showTitle": false,
     "tableResultSettingsMap": {},
     "title": ""
    }
   },
   "source": [
    "# Presidio test bed"
   ]
  },
  {
   "cell_type": "markdown",
   "metadata": {
    "application/vnd.databricks.v1+cell": {
     "cellMetadata": {},
     "inputWidgets": {},
     "nuid": "09bff290-08cd-4aad-959d-a5c79a0d8900",
     "showTitle": false,
     "tableResultSettingsMap": {},
     "title": ""
    }
   },
   "source": [
    "## Installs"
   ]
  },
  {
   "cell_type": "code",
   "execution_count": 0,
   "metadata": {
    "application/vnd.databricks.v1+cell": {
     "cellMetadata": {
      "byteLimit": 2048000,
      "rowLimit": 10000
     },
     "inputWidgets": {},
     "nuid": "0b9c6a0c-cca3-44ea-a22f-2d8a997cda6d",
     "showTitle": false,
     "tableResultSettingsMap": {},
     "title": ""
    }
   },
   "outputs": [],
   "source": [
    "%pip install -U spacy[cuda113]"
   ]
  },
  {
   "cell_type": "code",
   "execution_count": 0,
   "metadata": {
    "application/vnd.databricks.v1+cell": {
     "cellMetadata": {
      "byteLimit": 2048000,
      "rowLimit": 10000
     },
     "inputWidgets": {},
     "nuid": "90cbe650-fe86-487e-b741-2f2714e04ee9",
     "showTitle": false,
     "tableResultSettingsMap": {},
     "title": ""
    }
   },
   "outputs": [],
   "source": [
    "%sh python -m spacy download en_core_web_lg"
   ]
  },
  {
   "cell_type": "code",
   "execution_count": 0,
   "metadata": {
    "application/vnd.databricks.v1+cell": {
     "cellMetadata": {
      "byteLimit": 2048000,
      "rowLimit": 10000
     },
     "inputWidgets": {},
     "nuid": "8e58a1cc-99df-4842-a1a3-96575a84224a",
     "showTitle": false,
     "tableResultSettingsMap": {},
     "title": ""
    }
   },
   "outputs": [],
   "source": [
    "import logging\n",
    "import sys\n",
    "logging.basicConfig(stream=sys.stderr,\n",
    "                    level=logging.INFO,\n",
    "                    format='%(asctime)s [%(name)s][%(levelname)s] %(message)s')\n",
    "logging.getLogger('dbx.pixels').setLevel(logging.DEBUG)\n",
    "logger = logging.getLogger('dbx.pixels')"
   ]
  },
  {
   "cell_type": "code",
   "execution_count": 0,
   "metadata": {
    "application/vnd.databricks.v1+cell": {
     "cellMetadata": {
      "byteLimit": 2048000,
      "rowLimit": 10000
     },
     "inputWidgets": {},
     "nuid": "1d1d9c09-1a9b-498b-a97a-6bb04c4a885d",
     "showTitle": false,
     "tableResultSettingsMap": {},
     "title": ""
    }
   },
   "outputs": [],
   "source": [
    "logger.info(\"Hello\")"
   ]
  },
  {
   "cell_type": "markdown",
   "metadata": {
    "application/vnd.databricks.v1+cell": {
     "cellMetadata": {},
     "inputWidgets": {},
     "nuid": "76059e11-3705-4824-9f95-49bd92a268aa",
     "showTitle": false,
     "tableResultSettingsMap": {},
     "title": ""
    }
   },
   "source": [
    "## Test Setup"
   ]
  },
  {
   "cell_type": "code",
   "execution_count": 0,
   "metadata": {
    "application/vnd.databricks.v1+cell": {
     "cellMetadata": {
      "byteLimit": 2048000,
      "rowLimit": 10000
     },
     "inputWidgets": {},
     "nuid": "aa02f18d-d081-4da2-a971-c943fd6d8194",
     "showTitle": false,
     "tableResultSettingsMap": {},
     "title": ""
    }
   },
   "outputs": [],
   "source": [
    "paths = [\n",
    "    \"/Volumes/hls_radiology/pseudo-phi-dicom-data/pseudo-phi-dicom-data/pseudo_phi_dicom_data/manifest-1744203894606/Pseudo-PHI-DICOM-Data/292821506/07-13-2013-NA-XR CHEST AP PORTABLE for Douglas Davidson-46198/1001.000000-NA-37718/1-1.dcm\",\n",
    "\n",
    "    \"/Volumes/hls_radiology/pseudo-phi-dicom-data/pseudo-phi-dicom-data/pseudo_phi_dicom_data/manifest-1744203894606/Pseudo-PHI-DICOM-Data/292821506/07-13-2013-NA-XR CHEST AP PORTABLE for Douglas Davidson-46198/1002.000000-NA-53238/1-1.dcm\",\n",
    "\n",
    "    \"/Volumes/hls_radiology/pseudo-phi-dicom-data/pseudo-phi-dicom-data/pseudo_phi_deid_dicom_data/manifest-1744157828937/Pseudo-PHI-DICOM-Data/Pseudo-PHI-001/06-26-2003-NA-XR CHEST AP PORTABLE-96544/1001.000000-NA-42825/1-1.dcm\"\n",
    "]"
   ]
  },
  {
   "cell_type": "code",
   "execution_count": 0,
   "metadata": {
    "application/vnd.databricks.v1+cell": {
     "cellMetadata": {
      "byteLimit": 2048000,
      "rowLimit": 10000
     },
     "inputWidgets": {},
     "nuid": "e607d5bd-851b-4f25-b7bd-5e431e00cc4e",
     "showTitle": false,
     "tableResultSettingsMap": {},
     "title": ""
    }
   },
   "outputs": [],
   "source": [
    "import shutil\n",
    "for i, path in enumerate(paths):\n",
    "    shutil.copy(path, f\"/local_disk0/tmp/{i}.dcm\")\n"
   ]
  },
  {
   "cell_type": "markdown",
   "metadata": {
    "application/vnd.databricks.v1+cell": {
     "cellMetadata": {},
     "inputWidgets": {},
     "nuid": "4b88d09d-c1f9-41ec-8616-c4f96bac65d4",
     "showTitle": false,
     "tableResultSettingsMap": {},
     "title": ""
    }
   },
   "source": [
    "## Test EasyOCR"
   ]
  },
  {
   "cell_type": "markdown",
   "metadata": {
    "application/vnd.databricks.v1+cell": {
     "cellMetadata": {},
     "inputWidgets": {},
     "nuid": "db71f6a3-9435-46e9-8110-1fc4147c2ff2",
     "showTitle": false,
     "tableResultSettingsMap": {},
     "title": ""
    }
   },
   "source": [
    "### Install EasyOCR"
   ]
  },
  {
   "cell_type": "code",
   "execution_count": 0,
   "metadata": {
    "application/vnd.databricks.v1+cell": {
     "cellMetadata": {
      "byteLimit": 2048000,
      "rowLimit": 10000
     },
     "inputWidgets": {},
     "nuid": "5ebd37e4-568d-4bfa-a592-fff2264d2b03",
     "showTitle": false,
     "tableResultSettingsMap": {},
     "title": ""
    }
   },
   "outputs": [],
   "source": [
    "%pip install easyocr"
   ]
  },
  {
   "cell_type": "code",
   "execution_count": 0,
   "metadata": {
    "application/vnd.databricks.v1+cell": {
     "cellMetadata": {
      "byteLimit": 2048000,
      "rowLimit": 10000
     },
     "inputWidgets": {},
     "nuid": "6e98844f-a657-4ed6-b9c6-72f5507026f4",
     "showTitle": false,
     "tableResultSettingsMap": {},
     "title": ""
    }
   },
   "outputs": [],
   "source": [
    "%pip install pylibjpeg python-gdcm pydicom"
   ]
  },
  {
   "cell_type": "code",
   "execution_count": 0,
   "metadata": {
    "application/vnd.databricks.v1+cell": {
     "cellMetadata": {
      "byteLimit": 2048000,
      "rowLimit": 10000
     },
     "inputWidgets": {},
     "nuid": "d06acdbb-a1c4-4fdb-a118-26dacbe891e0",
     "showTitle": false,
     "tableResultSettingsMap": {},
     "title": ""
    }
   },
   "outputs": [],
   "source": [
    "%pip install  --extra-index-url=https://pypi.nvidia.com \"cudf-cu12>=25.04\" \"cuml-cu12>=25.04\" \"dask-cuda>=25.04\""
   ]
  },
  {
   "cell_type": "code",
   "execution_count": 0,
   "metadata": {
    "application/vnd.databricks.v1+cell": {
     "cellMetadata": {
      "byteLimit": 2048000,
      "rowLimit": 10000
     },
     "inputWidgets": {},
     "nuid": "82232874-afd1-4804-ad9c-9186c8deb283",
     "showTitle": false,
     "tableResultSettingsMap": {},
     "title": ""
    }
   },
   "outputs": [],
   "source": [
    "dbutils.library.restartPython()"
   ]
  },
  {
   "cell_type": "code",
   "execution_count": 0,
   "metadata": {
    "application/vnd.databricks.v1+cell": {
     "cellMetadata": {},
     "inputWidgets": {},
     "nuid": "2b5bc8ea-08ba-40cb-8ffb-2765ce3e51ad",
     "showTitle": false,
     "tableResultSettingsMap": {},
     "title": ""
    }
   },
   "outputs": [],
   "source": [
    "paths = [\n",
    "    \"/Volumes/hls_radiology/pseudo-phi-dicom-data/pseudo-phi-dicom-data/pseudo_phi_dicom_data/manifest-1744203894606/Pseudo-PHI-DICOM-Data/292821506/07-13-2013-NA-XR CHEST AP PORTABLE for Douglas Davidson-46198/1001.000000-NA-37718/1-1.dcm\",\n",
    "\n",
    "    \"/Volumes/hls_radiology/pseudo-phi-dicom-data/pseudo-phi-dicom-data/pseudo_phi_dicom_data/manifest-1744203894606/Pseudo-PHI-DICOM-Data/292821506/07-13-2013-NA-XR CHEST AP PORTABLE for Douglas Davidson-46198/1002.000000-NA-53238/1-1.dcm\",\n",
    "\n",
    "    \"/Volumes/hls_radiology/pseudo-phi-dicom-data/pseudo-phi-dicom-data/pseudo_phi_deid_dicom_data/manifest-1744157828937/Pseudo-PHI-DICOM-Data/Pseudo-PHI-001/06-26-2003-NA-XR CHEST AP PORTABLE-96544/1001.000000-NA-42825/1-1.dcm\"\n",
    "]\n",
    "\n",
    "# Download\n",
    "import shutil\n",
    "for i, path in enumerate(paths):\n",
    "    shutil.copy(path, f\"/local_disk0/tmp/{i}.dcm\")"
   ]
  },
  {
   "cell_type": "markdown",
   "metadata": {
    "application/vnd.databricks.v1+cell": {
     "cellMetadata": {},
     "inputWidgets": {},
     "nuid": "dfdcbc66-92e3-4fbd-bff5-ffd05781ffa8",
     "showTitle": false,
     "tableResultSettingsMap": {},
     "title": ""
    }
   },
   "source": [
    "### Easy OCR test Code"
   ]
  },
  {
   "cell_type": "code",
   "execution_count": 0,
   "metadata": {
    "application/vnd.databricks.v1+cell": {
     "cellMetadata": {
      "byteLimit": 2048000,
      "rowLimit": 10000
     },
     "inputWidgets": {},
     "nuid": "e1bd3c3c-d964-4027-b048-5c90c0aded46",
     "showTitle": false,
     "tableResultSettingsMap": {},
     "title": ""
    }
   },
   "outputs": [],
   "source": [
    "dcm_path = \"/local_disk0/tmp/1.dcm\""
   ]
  },
  {
   "cell_type": "code",
   "execution_count": 0,
   "metadata": {
    "application/vnd.databricks.v1+cell": {
     "cellMetadata": {
      "byteLimit": 2048000,
      "rowLimit": 10000
     },
     "inputWidgets": {},
     "nuid": "d4e5f0f8-bbdc-4e1e-9a00-6a25401ccd30",
     "showTitle": false,
     "tableResultSettingsMap": {},
     "title": ""
    }
   },
   "outputs": [],
   "source": [
    "from pprint import pp"
   ]
  },
  {
   "cell_type": "code",
   "execution_count": 0,
   "metadata": {
    "application/vnd.databricks.v1+cell": {
     "cellMetadata": {
      "byteLimit": 2048000,
      "rowLimit": 10000
     },
     "inputWidgets": {},
     "nuid": "7fd8e587-fc03-4dac-a763-8b048910582e",
     "showTitle": false,
     "tableResultSettingsMap": {},
     "title": ""
    }
   },
   "outputs": [],
   "source": [
    "import pydicom\n",
    "from PIL import Image\n",
    "import numpy as np\n",
    "\n",
    "ds = pydicom.dcmread(dcm_path)\n",
    "\n",
    "im = ds.pixel_array.astype(float)\n",
    "rescaled_image = (np.maximum(im,0)/im.max())*255 # float pixels\n",
    "final_image = np.uint8(rescaled_image) # integers pixels\n",
    "\n",
    "x = Image.fromarray(final_image)\n",
    "# save image as png\n",
    "x.save(\"/local_disk0/tmp/xray.png\")\n",
    "Image.open(\"/local_disk0/tmp/xray.png\")"
   ]
  },
  {
   "cell_type": "code",
   "execution_count": 0,
   "metadata": {
    "application/vnd.databricks.v1+cell": {
     "cellMetadata": {
      "byteLimit": 2048000,
      "rowLimit": 10000
     },
     "inputWidgets": {},
     "nuid": "51221012-570d-4297-94ac-146b7965908d",
     "showTitle": false,
     "tableResultSettingsMap": {},
     "title": ""
    }
   },
   "outputs": [],
   "source": [
    "import cv2\n",
    "import easyocr\n",
    "import pydicom\n",
    "\n",
    "# Initialize the EasyOCR Reader for English with GPU acceleration enabled.\n",
    "reader = easyocr.Reader(['en'], gpu=True, download_enabled=True)\n",
    "\n",
    "# Load your input image using OpenCV.\n",
    "def do_read(path:str):\n",
    "    ds = pydicom.dcmread(path)\n",
    "    im = ds.pixel_array.astype(float)\n",
    "    rescaled_image = (np.maximum(im,0)/im.max())*255 # float pixels\n",
    "    final_image = np.uint8(rescaled_image) # integers pixels\n",
    "\n",
    "    results = reader.readtext(final_image)\n",
    "\n",
    "    # Loop over the results and print detected text along with confidence.\n",
    "    for bbox, text, confidence in results:\n",
    "        yield({\"label\": text,\n",
    "               \"conf\": float(confidence*100.),\n",
    "               \"bbox\": [{\"x\":int(b[0]),\"y\":int(b[1])} for b in bbox]\n",
    "               })"
   ]
  },
  {
   "cell_type": "code",
   "execution_count": 0,
   "metadata": {
    "application/vnd.databricks.v1+cell": {
     "cellMetadata": {
      "byteLimit": 2048000,
      "rowLimit": 10000
     },
     "inputWidgets": {},
     "nuid": "48a3ed97-1203-44fb-a6dc-7d4354c9bcdb",
     "showTitle": false,
     "tableResultSettingsMap": {},
     "title": ""
    }
   },
   "outputs": [],
   "source": [
    "pp([ {\"path\": _, \"results\": [r for r in do_read(_)]} for _ in paths])"
   ]
  },
  {
   "cell_type": "code",
   "execution_count": 0,
   "metadata": {
    "application/vnd.databricks.v1+cell": {
     "cellMetadata": {
      "byteLimit": 2048000,
      "rowLimit": 10000
     },
     "inputWidgets": {},
     "nuid": "801a4f44-2c63-4cba-bba5-de0b3ecce776",
     "showTitle": false,
     "tableResultSettingsMap": {},
     "title": ""
    }
   },
   "outputs": [],
   "source": [
    "from pyspark.sql.types import StructType, StructField, StringType, IntegerType, DoubleType, ArrayType, LongType\n",
    "\n",
    "schema = StructType([\n",
    "    StructField(\"path\", StringType(), True),\n",
    "    StructField(\"results\", ArrayType(\n",
    "        StructType([\n",
    "            StructField(\"label\", StringType(), True),\n",
    "            StructField(\"conf\", DoubleType(), True),\n",
    "            StructField(\"bbox\", ArrayType(\n",
    "                StructType([\n",
    "                    StructField(\"x\", IntegerType(), True),\n",
    "                    StructField(\"y\", IntegerType(), True)\n",
    "                ])\n",
    "            ), True)\n",
    "        ])\n",
    "    ), True)\n",
    "])\n",
    "\n",
    "df = spark.createDataFrame(\n",
    "    [ {\"path\": _, \"results\": [r for r in do_read(_)]} for _ in paths], \n",
    "    schema=schema)\n",
    "\n",
    "print(df.schema)\n",
    "display(df)"
   ]
  },
  {
   "cell_type": "markdown",
   "metadata": {
    "application/vnd.databricks.v1+cell": {
     "cellMetadata": {},
     "inputWidgets": {},
     "nuid": "ae47e840-1f8a-4627-b5ff-436fc78117b8",
     "showTitle": false,
     "tableResultSettingsMap": {},
     "title": ""
    }
   },
   "source": [
    "### Performance - Easy OCR\n",
    "2min 3s ± 235 ms per loop (mean ± std. dev. of 7 runs, 1 loop each)\n",
    "for 100 x 3 images\n",
    "\n",
    "= .41 seconds per image"
   ]
  },
  {
   "cell_type": "code",
   "execution_count": 0,
   "metadata": {
    "application/vnd.databricks.v1+cell": {
     "cellMetadata": {
      "byteLimit": 2048000,
      "rowLimit": 10000
     },
     "inputWidgets": {},
     "nuid": "33566a84-bab7-40d1-a498-5d9ce1505dea",
     "showTitle": false,
     "tableResultSettingsMap": {},
     "title": ""
    }
   },
   "outputs": [],
   "source": [
    "import matplotlib.pyplot as plt\n",
    "\n",
    "# Display the image using matplotlib\n",
    "ds = pydicom.dcmread(path2)\n",
    "plt.imshow(ds.pixel_array, cmap='gray')\n",
    "plt.savefig(\"/local_disk0/tmp/xray.png\")\n",
    "plt.title('DICOM Image')\n",
    "plt.axis('on')\n",
    "plt.show()\n",
    "do_read(path2)"
   ]
  },
  {
   "cell_type": "code",
   "execution_count": 0,
   "metadata": {
    "application/vnd.databricks.v1+cell": {
     "cellMetadata": {},
     "inputWidgets": {},
     "nuid": "fe7bffc9-5150-44b5-ba72-699d1f1b96be",
     "showTitle": false,
     "tableResultSettingsMap": {},
     "title": ""
    }
   },
   "outputs": [],
   "source": []
  }
 ],
 "metadata": {
  "application/vnd.databricks.v1+notebook": {
   "computePreferences": null,
   "dashboards": [],
   "environmentMetadata": {
    "base_environment": "",
    "environment_version": "2"
   },
   "inputWidgetPreferences": null,
   "language": "python",
   "notebookMetadata": {
    "mostRecentlyExecutedCommandWithImplicitDF": {
     "commandId": 2400833312688378,
     "dataframes": [
      "_sqldf"
     ]
    },
    "pythonIndentUnit": 4
   },
   "notebookName": "DICOM - Easy OCR",
   "widgets": {}
  },
  "language_info": {
   "name": "python"
  }
 },
 "nbformat": 4,
 "nbformat_minor": 0
}
