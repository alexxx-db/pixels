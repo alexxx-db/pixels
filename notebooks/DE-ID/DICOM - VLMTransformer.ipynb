{
 "cells": [
  {
   "cell_type": "markdown",
   "metadata": {
    "application/vnd.databricks.v1+cell": {
     "cellMetadata": {},
     "inputWidgets": {},
     "nuid": "50bb7869-cb72-47cc-b0a4-8ffbd193891c",
     "showTitle": false,
     "tableResultSettingsMap": {},
     "title": ""
    }
   },
   "source": [
    "Expected input is a pyspark dataframe with a column containing image as base64 string for input into VLMs\n",
    "\n",
    "DICOM images are previously scaled down and converted into base64 string via `dbx.pixels.dicom.dicom_to_base64jpg`"
   ]
  },
  {
   "cell_type": "code",
   "execution_count": 0,
   "metadata": {
    "application/vnd.databricks.v1+cell": {
     "cellMetadata": {},
     "collapsed": true,
     "inputWidgets": {},
     "nuid": "67ed09cb-5019-41eb-a59d-d0d6a3e5ba7c",
     "showTitle": false,
     "tableResultSettingsMap": {},
     "title": ""
    }
   },
   "outputs": [],
   "source": [
    "# If running over databricks-connect.\n",
    "# Skip this cell if running as Databricks NB\n",
    "from databricks.connect import DatabricksSession\n",
    "spark = DatabricksSession.builder.getOrCreate()"
   ]
  },
  {
   "cell_type": "code",
   "execution_count": 0,
   "metadata": {
    "application/vnd.databricks.v1+cell": {
     "cellMetadata": {
      "byteLimit": 2048000,
      "rowLimit": 10000
     },
     "inputWidgets": {},
     "nuid": "05bf76bc-1ea2-4a4e-bafb-cca10c371be9",
     "showTitle": false,
     "tableResultSettingsMap": {},
     "title": ""
    }
   },
   "outputs": [],
   "source": [
    "%pip install -e /Workspace/Users/yen.low@databricks.com/pixel/pixels\n",
    "dbutils.library.restartPython()"
   ]
  },
  {
   "cell_type": "code",
   "execution_count": 0,
   "metadata": {
    "application/vnd.databricks.v1+cell": {
     "cellMetadata": {
      "byteLimit": 2048000,
      "rowLimit": 10000
     },
     "inputWidgets": {},
     "nuid": "da0ea46c-459a-40d1-b796-3c05342714cf",
     "showTitle": false,
     "tableResultSettingsMap": {},
     "title": ""
    }
   },
   "outputs": [],
   "source": [
    "%reload_ext autoreload\n",
    "%autoreload 2"
   ]
  },
  {
   "cell_type": "markdown",
   "metadata": {
    "application/vnd.databricks.v1+cell": {
     "cellMetadata": {},
     "inputWidgets": {},
     "nuid": "717f4ca4-412e-4638-bb01-38f3541e6f34",
     "showTitle": false,
     "tableResultSettingsMap": {},
     "title": ""
    }
   },
   "source": [
    "## Load input dataframe\n",
    "Required input column must be ONE of the following:\n",
    "1. a .dcm file path (e.g. `/Volumes/hls_radiology/2.1.656.0.2.8048482.9.537.165816238/1-1.dcm`)\n",
    "2. image file path (e.g. `/Volumes/hls_radiology/2.1.656.0.2.8048482.9.537.165816238/1-1.jpg`)\n",
    "3. image encoded as a base64 string required by VLM (e.g. `/9j/4AAQSkZJRgABAQAAAQABAAD/2wBDAAgGBgcGBQgHBwc...`)\n",
    "\n",
    "#### Read .dcm paths from Volume"
   ]
  },
  {
   "cell_type": "code",
   "execution_count": 0,
   "metadata": {
    "application/vnd.databricks.v1+cell": {
     "cellMetadata": {},
     "inputWidgets": {},
     "nuid": "bc87b834-a5d3-4389-945c-a3ed8b014ccc",
     "showTitle": false,
     "tableResultSettingsMap": {},
     "title": ""
    }
   },
   "outputs": [],
   "source": [
    "# Volume where .dcm files are stored\n",
    "phi_folder = \"/Volumes/hls_radiology/tcia/downloads/tciaDownload/\"\n",
    "\n",
    "# Recursivingely read in .dcm files\n",
    "# Binary is automatically read into a \"content\" column. \n",
    "# Drop to avoid storing large binary files in tables\n",
    "df = (spark.read.format(\"binaryFile\")\n",
    "    .option(\"recursiveFileLookup\", \"true\")\n",
    "    .load(phi_folder)\n",
    "    .drop(\"content\")\n",
    ")\n",
    "display(df)\n",
    "\n",
    "(df.write.format(\"delta\")\n",
    "    .mode(\"overwrite\").option(\"overwriteSchema\", \"true\")\n",
    "    .saveAsTable(\"hls_radiology.tcia.midi_b_val_subset\")\n",
    ")"
   ]
  },
  {
   "cell_type": "markdown",
   "metadata": {
    "application/vnd.databricks.v1+cell": {
     "cellMetadata": {},
     "inputWidgets": {},
     "nuid": "cec69e44-1df8-4d44-9fb0-8e6dc795c2e4",
     "showTitle": false,
     "tableResultSettingsMap": {},
     "title": ""
    }
   },
   "source": [
    "#### If table of DICOM paths already exist"
   ]
  },
  {
   "cell_type": "code",
   "execution_count": 0,
   "metadata": {
    "application/vnd.databricks.v1+cell": {
     "cellMetadata": {
      "byteLimit": 2048000,
      "rowLimit": 10000
     },
     "inputWidgets": {},
     "nuid": "7d9f065c-981d-422a-bdbb-654203167f21",
     "showTitle": false,
     "tableResultSettingsMap": {},
     "title": ""
    }
   },
   "outputs": [],
   "source": [
    "df = spark.table(\"hls_radiology.tcia.midi_b_val_subset\")\n",
    "display(df)"
   ]
  },
  {
   "cell_type": "markdown",
   "metadata": {
    "application/vnd.databricks.v1+cell": {
     "cellMetadata": {},
     "inputWidgets": {},
     "nuid": "56af67dd-1b2d-434b-b98f-d51c0b0946d1",
     "showTitle": false,
     "tableResultSettingsMap": {},
     "title": ""
    }
   },
   "source": [
    "## Run on a single image"
   ]
  },
  {
   "cell_type": "code",
   "execution_count": 0,
   "metadata": {
    "application/vnd.databricks.v1+cell": {
     "cellMetadata": {
      "byteLimit": 2048000,
      "rowLimit": 10000
     },
     "inputWidgets": {},
     "nuid": "535dc7da-ff09-4223-820f-87a4540a90cb",
     "showTitle": false,
     "tableResultSettingsMap": {},
     "title": ""
    }
   },
   "outputs": [],
   "source": [
    "from dbx.pixels.dicom.dicom_vlm_phi_detector import VLMPhiExtractor\n",
    "\n",
    "# Initialize VLMPhiExtractor to do PHI extraction by VLM\n",
    "extractor = VLMPhiExtractor(endpoint=\"databricks-claude-3-7-sonnet\")"
   ]
  },
  {
   "cell_type": "code",
   "execution_count": 0,
   "metadata": {
    "application/vnd.databricks.v1+cell": {
     "cellMetadata": {
      "byteLimit": 2048000,
      "rowLimit": 10000
     },
     "inputWidgets": {},
     "nuid": "a2d752c9-efcc-4cd8-8d6a-b3711066d480",
     "showTitle": false,
     "tableResultSettingsMap": {},
     "title": ""
    }
   },
   "outputs": [],
   "source": [
    "# Get single dicom file\n",
    "path = df.select(\"path\").take(1)[-1]['path']\n",
    "extractor.extract(path)"
   ]
  },
  {
   "cell_type": "code",
   "execution_count": 0,
   "metadata": {
    "application/vnd.databricks.v1+cell": {
     "cellMetadata": {
      "byteLimit": 2048000,
      "rowLimit": 10000
     },
     "inputWidgets": {},
     "nuid": "4ef09dab-53bc-4aa8-a74f-150bd22ccce8",
     "showTitle": false,
     "tableResultSettingsMap": {},
     "title": ""
    }
   },
   "outputs": [],
   "source": [
    "# Get single image string\n",
    "jpg_base64str = df.select(\"jpg_base64str\").take(1)[-1]['jpg_base64str']\n",
    "extractor.extract(jpg_base64str, input_type=\"base64\")"
   ]
  },
  {
   "cell_type": "markdown",
   "metadata": {
    "application/vnd.databricks.v1+cell": {
     "cellMetadata": {},
     "inputWidgets": {},
     "nuid": "92537311-238b-4f42-a256-3298deafbff1",
     "showTitle": false,
     "tableResultSettingsMap": {},
     "title": ""
    }
   },
   "source": [
    "## Redact single image"
   ]
  },
  {
   "cell_type": "code",
   "execution_count": 0,
   "metadata": {
    "application/vnd.databricks.v1+cell": {
     "cellMetadata": {
      "byteLimit": 2048000,
      "rowLimit": 10000
     },
     "inputWidgets": {},
     "nuid": "1a08c1a2-a562-40ee-8bcf-ed610613b8f0",
     "showTitle": false,
     "tableResultSettingsMap": {},
     "title": ""
    }
   },
   "outputs": [],
   "source": [
    "from dbx.pixels.dicom.dicom_easyocr_redactor import ocr_dcm\n",
    "\n",
    "bb_redact = ocr_dcm(path, display=True)"
   ]
  },
  {
   "cell_type": "markdown",
   "metadata": {
    "application/vnd.databricks.v1+cell": {
     "cellMetadata": {},
     "inputWidgets": {},
     "nuid": "91106984-d302-40ad-af43-d258214a0886",
     "showTitle": false,
     "tableResultSettingsMap": {},
     "title": ""
    }
   },
   "source": [
    "## Bulk run: `VLMTransformer().transform(df)`\n",
    "where the input column is a image string in base64.<br>\n",
    "This returns a df with a new column `response` returned by the VLM specified in `endpoint`"
   ]
  },
  {
   "cell_type": "code",
   "execution_count": 0,
   "metadata": {
    "application/vnd.databricks.v1+cell": {
     "cellMetadata": {
      "byteLimit": 2048000,
      "rowLimit": 10000
     },
     "inputWidgets": {},
     "nuid": "798e9902-4b81-45bb-857a-0c35429aefea",
     "showTitle": false,
     "tableResultSettingsMap": {},
     "title": ""
    }
   },
   "outputs": [],
   "source": [
    "from dbx.pixels.dicom.dicom_vlm_phi_detector import VLMTransformer\n",
    "\n",
    "vlm_transformer = VLMTransformer(endpoint=\"databricks-claude-3-7-sonnet\", \n",
    "                                 temperature = 0.0,\n",
    "                                 num_output_tokens=200,\n",
    "                                 inputCol=\"path\", \n",
    "                                 outputCol=\"response\",\n",
    "                                 input_type=\"base64\",\n",
    "                                 max_width=768)\n",
    "out_df = vlm_transformer.transform(df.limit(10))\n",
    "display(out_df)"
   ]
  },
  {
   "cell_type": "markdown",
   "metadata": {
    "application/vnd.databricks.v1+cell": {
     "cellMetadata": {},
     "inputWidgets": {},
     "nuid": "0b77f7fe-6cfb-4964-a118-99c36b9182c4",
     "showTitle": false,
     "tableResultSettingsMap": {},
     "title": ""
    }
   },
   "source": [
    "## Extract PHI entities and evaluate against ground truth (`has_phi`)"
   ]
  },
  {
   "cell_type": "code",
   "execution_count": 0,
   "metadata": {
    "application/vnd.databricks.v1+cell": {
     "cellMetadata": {
      "byteLimit": 2048000,
      "rowLimit": 10000
     },
     "inputWidgets": {},
     "nuid": "e57091f9-43fe-4488-93c4-ff4debe09bb5",
     "showTitle": false,
     "tableResultSettingsMap": {},
     "title": ""
    }
   },
   "outputs": [],
   "source": [
    "from pyspark.sql.functions import split, col, when, size\n",
    "\n",
    "extracted_df = (out_df\n",
    "    .withColumn(\"entities\", col(\"response.content\"))\n",
    "    .withColumn(\"phi_detected\", when(size(col(\"entities\"))>1, True).otherwise(False))\n",
    "    .drop(\"jpg_base64str\", \"jpg_base64str_masked\")\n",
    ")\n",
    "display(extracted_df)"
   ]
  },
  {
   "cell_type": "code",
   "execution_count": 0,
   "metadata": {
    "application/vnd.databricks.v1+cell": {
     "cellMetadata": {
      "byteLimit": 2048000,
      "rowLimit": 10000
     },
     "inputWidgets": {},
     "nuid": "3c9317c0-dc0d-4693-95f0-296f38ae30db",
     "showTitle": false,
     "tableResultSettingsMap": {},
     "title": ""
    }
   },
   "outputs": [],
   "source": [
    "# Extract selected columns and convert to pandas for subsequent sklearn metrics computation\n",
    "extracted_pdf = extracted_df.select(\"has_phi\", \"phi_detected\").toPandas()\n",
    "display(extracted_pdf)"
   ]
  },
  {
   "cell_type": "code",
   "execution_count": 0,
   "metadata": {
    "application/vnd.databricks.v1+cell": {
     "cellMetadata": {
      "byteLimit": 2048000,
      "rowLimit": 10000
     },
     "inputWidgets": {},
     "nuid": "8d993325-6908-473e-abb0-12c3d41ca79f",
     "showTitle": false,
     "tableResultSettingsMap": {},
     "title": ""
    }
   },
   "outputs": [],
   "source": [
    "from sklearn.metrics import precision_score, recall_score, f1_score, accuracy_score\n",
    "\n",
    "precision = precision_score(extracted_pdf.has_phi, extracted_pdf.phi_detected)\n",
    "recall = recall_score(extracted_pdf.has_phi, extracted_pdf.phi_detected)\n",
    "f1 = f1_score(extracted_pdf.has_phi, extracted_pdf.phi_detected)\n",
    "accuracy = accuracy_score(extracted_pdf.has_phi, extracted_pdf.phi_detected)\n",
    "\n",
    "precision, recall, f1, accuracy"
   ]
  },
  {
   "cell_type": "markdown",
   "metadata": {
    "application/vnd.databricks.v1+cell": {
     "cellMetadata": {},
     "inputWidgets": {},
     "nuid": "610fdc6e-b296-4a20-8430-2796a1dd1d9a",
     "showTitle": false,
     "tableResultSettingsMap": {},
     "title": ""
    }
   },
   "source": [
    "## Bulk redaction: wrap Pandas UDF around redaction functions `ocr_dcm` and `dicom_to_array`"
   ]
  },
  {
   "cell_type": "code",
   "execution_count": 0,
   "metadata": {
    "application/vnd.databricks.v1+cell": {
     "cellMetadata": {},
     "inputWidgets": {},
     "nuid": "00b7d0d9-cd08-499c-ada6-02a514c7e0b3",
     "showTitle": false,
     "tableResultSettingsMap": {},
     "title": ""
    }
   },
   "outputs": [],
   "source": [
    "from dbx.pixels.dicom.dicom_utils import dicom_to_array\n",
    "\n",
    "\n",
    "@pandas_udf(\"array<array<int>>\")\n",
    "def dicom_to_array_udf(path: pd.Series) -> pd.Series:\n",
    "    return path.apply(dicom_to_array)\n",
    "\n",
    "@pandas_udf(\"array<array<int>>\")\n",
    "def ocr_dcm_udf(path: pd.Series) -> pd.Series:\n",
    "    return path.apply(ocr_dcm)\n",
    "\n",
    "\n",
    "@pandas_udf(\"array<array<int>>\")\n",
    "def fill_bb_udf(path: pd.Series) -> pd.Series:\n",
    "    return path.apply(fill_bounding_boxes)\n",
    "\n",
    "\n",
    "\n",
    "extracted_df = (extracted_df.where(extracted_df.phi_detected==True)\n",
    "    .withColumn(\"image_array\",  dicom_to_array_udf(col(\"bb\")))\n",
    "    .withColumn(\"bb\",  ocr_dcm_udf(col(\"path\")))\n",
    "    .withColumn(\"image_array\",  dicom_to_array_udf(col(\"bb\")))\n",
    ")\n",
    "display(extracted_df)"
   ]
  }
 ],
 "metadata": {
  "application/vnd.databricks.v1+notebook": {
   "computePreferences": null,
   "dashboards": [],
   "environmentMetadata": {
    "base_environment": "",
    "environment_version": "2"
   },
   "inputWidgetPreferences": null,
   "language": "python",
   "notebookMetadata": {
    "pythonIndentUnit": 4
   },
   "notebookName": "DICOM - VLMTransformer",
   "widgets": {}
  },
  "kernelspec": {
   "display_name": "venv",
   "language": "python",
   "name": "python3"
  },
  "language_info": {
   "name": "python"
  }
 },
 "nbformat": 4,
 "nbformat_minor": 0
}
