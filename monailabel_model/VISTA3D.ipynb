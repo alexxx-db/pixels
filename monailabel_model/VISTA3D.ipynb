{
 "cells": [
  {
   "cell_type": "markdown",
   "metadata": {
    "application/vnd.databricks.v1+cell": {
     "cellMetadata": {
      "byteLimit": 2048000,
      "rowLimit": 10000
     },
     "inputWidgets": {},
     "nuid": "0a4bac86-1351-4001-b286-bd33351bc324",
     "showTitle": false,
     "tableResultSettingsMap": {},
     "title": ""
    }
   },
   "source": [
    "# VISTA3D - 14.3 LTS  ML - CUDA11\n",
    "\n",
    "https://catalog.ngc.nvidia.com/orgs/nvidia/teams/monaitoolkit/models/monai_vista3d\n",
    "\n",
    "---\n",
    "\n",
    "### Vista3D - Code License\n",
    "This project includes code licensed under the Apache License 2.0. [LINK](https://github.com/Project-MONAI/VISTA/blob/main/vista3d/LICENSE)\n",
    "\n",
    "### Vista3D - Model Weights License\n",
    "The model weights are made available by NVIDIA under the NCLS v1 License. Please review the license terms to ensure compliance prior to download the model weights. [NVIDIA OneWay Noncommercial License](https://github.com/Project-MONAI/VISTA/blob/main/vista3d/NVIDIA%20OneWay%20Noncommercial%20License.txt)\n",
    "\n",
    "---\n"
   ]
  },
  {
   "cell_type": "code",
   "execution_count": 0,
   "metadata": {
    "application/vnd.databricks.v1+cell": {
     "cellMetadata": {
      "byteLimit": 2048000,
      "rowLimit": 10000
     },
     "inputWidgets": {},
     "nuid": "6bf8cfd7-9108-4f29-867e-0a0f3765d088",
     "showTitle": false,
     "tableResultSettingsMap": {},
     "title": ""
    }
   },
   "outputs": [],
   "source": [
    "%pip install -r vista3d/requirements.txt\n",
    "%pip install ./artifacts/monailabel-0.8.5-py3-none-any.whl --no-deps\n",
    "%pip install monai==1.4.0 pytorch-ignite --no-deps\n",
    "%pip install databricks-sdk==0.36 --upgrade"
   ]
  },
  {
   "cell_type": "code",
   "execution_count": 0,
   "metadata": {
    "application/vnd.databricks.v1+cell": {
     "cellMetadata": {
      "byteLimit": 2048000,
      "rowLimit": 10000
     },
     "inputWidgets": {},
     "nuid": "30172d2f-62d4-44c2-a142-4ef1a9b263fa",
     "showTitle": false,
     "tableResultSettingsMap": {},
     "title": ""
    }
   },
   "outputs": [],
   "source": [
    "dbutils.library.restartPython()"
   ]
  },
  {
   "cell_type": "code",
   "execution_count": 0,
   "metadata": {
    "application/vnd.databricks.v1+cell": {
     "cellMetadata": {
      "byteLimit": 2048000,
      "rowLimit": 10000
     },
     "inputWidgets": {},
     "nuid": "0a2f8341-507a-4919-aa36-4365df2142ba",
     "showTitle": false,
     "tableResultSettingsMap": {},
     "title": ""
    }
   },
   "outputs": [],
   "source": [
    "%run ../config/proxy_prep"
   ]
  },
  {
   "cell_type": "code",
   "execution_count": 0,
   "metadata": {
    "application/vnd.databricks.v1+cell": {
     "cellMetadata": {
      "byteLimit": 2048000,
      "rowLimit": 10000
     },
     "inputWidgets": {},
     "nuid": "13b843fb-0477-488e-ae6b-2732d70abd4e",
     "showTitle": false,
     "tableResultSettingsMap": {},
     "title": ""
    }
   },
   "outputs": [],
   "source": [
    "sql_warehouse_id, table, volume = init_widgets(show_volume=True)\n",
    "model_uc_name, serving_endpoint_name = init_model_serving_widgets()\n",
    "\n",
    "volume_path = volume.replace(\".\",\"/\")"
   ]
  },
  {
   "cell_type": "code",
   "execution_count": 0,
   "metadata": {
    "application/vnd.databricks.v1+cell": {
     "cellMetadata": {
      "byteLimit": 2048000,
      "rowLimit": 10000
     },
     "inputWidgets": {},
     "nuid": "1a4931f9-2d40-4adc-b2f0-6db518e49d09",
     "showTitle": false,
     "tableResultSettingsMap": {},
     "title": ""
    }
   },
   "outputs": [],
   "source": [
    "init_env()\n",
    "\n",
    "os.environ[\"DEST_DIR\"] = f\"/Volumes/{volume_path}/monai_serving/vista3d/\""
   ]
  },
  {
   "cell_type": "code",
   "execution_count": 0,
   "metadata": {
    "application/vnd.databricks.v1+cell": {
     "cellMetadata": {
      "byteLimit": 2048000,
      "rowLimit": 10000
     },
     "inputWidgets": {},
     "nuid": "3205c661-a667-4d22-aae8-3eaf51d71436",
     "showTitle": false,
     "tableResultSettingsMap": {},
     "title": ""
    }
   },
   "outputs": [],
   "source": [
    "from vista3d.code.dbvista3dmodel import DBVISTA3DModel\n",
    "\n",
    "model = DBVISTA3DModel(volumes_compatible=True)"
   ]
  },
  {
   "cell_type": "code",
   "execution_count": 0,
   "metadata": {
    "application/vnd.databricks.v1+cell": {
     "cellMetadata": {
      "byteLimit": 2048000,
      "rowLimit": 10000
     },
     "collapsed": true,
     "inputWidgets": {},
     "nuid": "84dec393-35c7-4c75-b2d2-8ea37f3566a3",
     "showTitle": false,
     "tableResultSettingsMap": {},
     "title": ""
    }
   },
   "outputs": [],
   "source": [
    "from mlflow.models import infer_signature\n",
    "from typing import Optional\n",
    "\n",
    "input_examples = [\n",
    "      { \"input\": { \"action\": \"info\" }},                   #retrieve informations about the monailabel server\n",
    "      { \"input\": { \"action\": \"activelearning/random\" }},  #randomly return the next series_uid useful to label\n",
    "      { \"input\": {                                        #train the model based on labelled series\n",
    "        \"train\": {\n",
    "          'name': 'train_01',\n",
    "          'pretrained': True,\n",
    "          'device': ['NVIDIA A10G'],\n",
    "          'max_epochs': 50,\n",
    "          'early_stop_patience': -1,\n",
    "          'val_split': 0.2,\n",
    "          'train_batch_size': 1,\n",
    "          'val_batch_size': 1,\n",
    "          'multi_gpu': True,\n",
    "          'gpus': 'all',\n",
    "          'dataset': 'SmartCacheDataset',\n",
    "          'dataloader': 'ThreadDataLoader',\n",
    "          'tracking': 'mlflow',\n",
    "          'tracking_uri': '',\n",
    "          'tracking_experiment_name': '',\n",
    "          'model': 'segmentation'\n",
    "          }\n",
    "       }\n",
    "      },\n",
    "      { 'input': {                                        #train the model based on labelled series with mandatory fields\n",
    "        'train': {\n",
    "          'name': 'train_01',\n",
    "          'pretrained': True,\n",
    "          'max_epochs': 50,\n",
    "          'val_split': 0.2,\n",
    "          'train_batch_size': 1,\n",
    "          'val_batch_size': 1,\n",
    "          'gpus': 'all',\n",
    "          'model': 'segmentation'\n",
    "          }\n",
    "       }\n",
    "      },                      \n",
    "      { 'input': {                                        #trigger the inference on a single DICOM series given the series uid, used in OHIF Viewer\n",
    "        'infer': {\n",
    "          'largest_cc': False,\n",
    "          'device': ['NVIDIA A10G'],\n",
    "          'result_extension': '.nrrd',\n",
    "          'result_dtype': 'uint16',\n",
    "          'result_compress': False,\n",
    "          'restore_label_idx': False,\n",
    "          'model': 'vista3d',\n",
    "          'image': '1.2.156.14702.1.1000.16.1.2020031111365289000020001',\n",
    "          'export_metrics': False,\n",
    "          'export_overlays': False,\n",
    "          'points': [[10,10,10],[20,20,20]], #list of x,y,z points\n",
    "          'point_labels': [0,1],\n",
    "          'pixels_table': \"main.pixels_solacc.object_catalog\"\n",
    "          }\n",
    "       }\n",
    "      },\n",
    "      { 'input': {                                        #trigger the inference on a single DICOM series given the series uid, used in OHIF Viewer with mandatory fields\n",
    "        'infer': {\n",
    "          'model': 'vista3d',\n",
    "          'image': '1.2.156.14702.1.1000.16.1.2020031111365289000020001',\n",
    "          'label_prompt': [1,26]\n",
    "          }\n",
    "       }\n",
    "      },\n",
    "      { 'input': {                                        #Return the file from the inference, used in OHIF Viewer\n",
    "        'get_file': '/tmp/vista/bundles/vista3d/models/prediction/1.2.156.14702.1.1000.16.1.2020031111365289000020001/1.2.156.14702.1.1000.16.1.2020031111365289000020001_seg.nii.gz',\n",
    "        'result_dtype': 'uint8'\n",
    "       }\n",
    "      },\n",
    "      { 'series_uid': '1.2.156.14702.1.1000.16.1.2020031111365293700020003',\n",
    "        'params' : {\n",
    "          'label_prompt' : [1,26],\n",
    "          'export_metrics': False,\n",
    "          'export_overlays': False,\n",
    "          'points': [[100,100,100],[200,200,200]],\n",
    "          'point_labels': [0,1],\n",
    "          'dest_dir': '/Volumes/main/pixels_solacc/pixels_volume/monai_serving/vista3d',\n",
    "          'pixels_table': \"main.pixels_solacc.object_catalog\",\n",
    "          'torch_device': 0\n",
    "        }\n",
    "      },\n",
    "      { 'series_uid': '1.2.156.14702.1.1000.16.1.2020031111365293700020003',\n",
    "       'params' : {},\n",
    "      },\n",
    "      { 'series_uid': '1.2.156.14702.1.1000.16.1.2020031111365293700020003'}\n",
    "]\n",
    "\n",
    "signature = infer_signature(input_examples, model_output=\"\")\n",
    "signature.inputs.to_json()"
   ]
  },
  {
   "cell_type": "code",
   "execution_count": 0,
   "metadata": {
    "application/vnd.databricks.v1+cell": {
     "cellMetadata": {
      "byteLimit": 2048000,
      "rowLimit": 10000
     },
     "inputWidgets": {},
     "nuid": "abc1cb7d-4f1a-4f92-b6d3-fd8b9b1c9777",
     "showTitle": false,
     "tableResultSettingsMap": {},
     "title": ""
    }
   },
   "outputs": [],
   "source": [
    "from common.utils import download_dcmqi_tools\n",
    "\n",
    "# Download the dcmqi tool binary used for the conversion of nifti files to DICOM SEG files\n",
    "download_dcmqi_tools(\"./artifacts\")"
   ]
  },
  {
   "cell_type": "code",
   "execution_count": 0,
   "metadata": {
    "application/vnd.databricks.v1+cell": {
     "cellMetadata": {
      "byteLimit": 2048000,
      "rowLimit": 10000
     },
     "inputWidgets": {},
     "nuid": "56018f41-ce73-4a97-bc02-0f84e7983658",
     "showTitle": false,
     "tableResultSettingsMap": {},
     "title": ""
    }
   },
   "outputs": [],
   "source": [
    "# === OPTIONAL | Requires GPU Enabled cluster ===\n",
    "\n",
    "try:\n",
    "  import torchvision\n",
    "  import pandas as pd\n",
    "  import json\n",
    "\n",
    "  label_prompt = [\"liver\", \"hepatic tumor\"]\n",
    "\n",
    "  label_dict_path = \"vista3d/code/vista3d_bundle/data/jsons/label_dict.json\"\n",
    "  label_dict = json.load(open(label_dict_path))\n",
    "  label_index = [label_dict[label.strip()] for label in label_prompt if label.strip() in label_dict]\n",
    "\n",
    "  # Pick one of the series_uid available in the pixels' catalog table\n",
    "  series_uid = \"2.25.10951537720107263456062230200372018678\"\n",
    "\n",
    "  input = { \"series_uid\": series_uid, \"params\": {\n",
    "    \"label_prompt\": [1,26],\n",
    "    \"export_metrics\": False,\n",
    "    \"export_overlays\": False,\n",
    "    \"dest_dir\": f\"/Volumes/{volume_path}/monai_serving/vista3d\",\n",
    "    \"pixels_table\" : table\n",
    "    }\n",
    "  }\n",
    "\n",
    "  df = pd.DataFrame([input])\n",
    "\n",
    "  # This step will download the VISTA3D Model bundle scripts and model weights to the local disk\n",
    "  # This step will automatically download in the ./bin folder the itkimage2segimage binary required for the conversion of nifti files to DICOM SEG files\n",
    "\n",
    "  model.load_context(context=None)\n",
    "  result = model.predict(None, df)\n",
    "except ImportError as e:\n",
    "  print(e,\", skipping model test\")"
   ]
  },
  {
   "cell_type": "code",
   "execution_count": 0,
   "metadata": {
    "application/vnd.databricks.v1+cell": {
     "cellMetadata": {
      "byteLimit": 2048000,
      "rowLimit": 10000
     },
     "inputWidgets": {},
     "nuid": "8a68c8bd-31f0-487a-b43a-7e90f59032d7",
     "showTitle": false,
     "tableResultSettingsMap": {},
     "title": ""
    }
   },
   "outputs": [],
   "source": [
    "import mlflow\n",
    "\n",
    "# Save the function as a model\n",
    "with mlflow.start_run():\n",
    "    mlflow.pyfunc.log_model (\n",
    "        \"DBVISTA3DModel\",\n",
    "        python_model=DBVISTA3DModel(),\n",
    "        conda_env=\"./vista3d/conda.yaml\",\n",
    "        signature=signature,\n",
    "        code_paths=[\"./vista3d\", \"./common\", \"./lib\"],\n",
    "        artifacts={\n",
    "            \"monailabel-0.8.5\": \"./artifacts/monailabel-0.8.5-py3-none-any.whl\",\n",
    "            \"itkimage2segimage\": \"./artifacts/itkimage2segimage\"\n",
    "        }\n",
    "    )\n",
    "    run_id = mlflow.active_run().info.run_id\n",
    "    print(run_id)"
   ]
  },
  {
   "cell_type": "code",
   "execution_count": 0,
   "metadata": {
    "application/vnd.databricks.v1+cell": {
     "cellMetadata": {
      "byteLimit": 2048000,
      "rowLimit": 10000
     },
     "inputWidgets": {},
     "nuid": "27f3320a-8537-4ba1-b4c1-835e22153352",
     "showTitle": false,
     "tableResultSettingsMap": {},
     "title": ""
    }
   },
   "outputs": [],
   "source": [
    "model_uri = \"runs:/{}/DBVISTA3DModel\".format(run_id)\n",
    "latest_model = mlflow.register_model(model_uri, model_uc_name)"
   ]
  },
  {
   "cell_type": "code",
   "execution_count": 0,
   "metadata": {
    "application/vnd.databricks.v1+cell": {
     "cellMetadata": {
      "byteLimit": 2048000,
      "rowLimit": 10000
     },
     "inputWidgets": {},
     "nuid": "a264cb8f-1d07-4a78-a202-e1f145b5f301",
     "showTitle": false,
     "tableResultSettingsMap": {},
     "title": ""
    }
   },
   "outputs": [],
   "source": [
    "# Define scope and key names for the credentials\n",
    "\n",
    "scope_name = \"pixels-scope\"\n",
    "sp_id_key = \"pixels_sp_id\"\n",
    "sp_secret_key = \"pixels_sp_secret\"\n",
    "token_key = \"pixels_token\"\n",
    "\n",
    "sp = None"
   ]
  },
  {
   "cell_type": "code",
   "execution_count": 0,
   "metadata": {
    "application/vnd.databricks.v1+cell": {
     "cellMetadata": {
      "byteLimit": 2048000,
      "rowLimit": 10000
     },
     "inputWidgets": {},
     "nuid": "d39477da-01b0-42bd-a3f3-8cc713a2d0a5",
     "showTitle": false,
     "tableResultSettingsMap": {},
     "title": ""
    }
   },
   "outputs": [],
   "source": [
    "\n",
    "# === OPTIONAL | Create Personal Access Token | Not needed if service principal is used ===\n",
    "from databricks.sdk import WorkspaceClient\n",
    "\n",
    "w = WorkspaceClient()\n",
    "\n",
    "scope_name = \"pixels-scope\"\n",
    "\n",
    "if scope_name not in [scope.name for scope in w.secrets.list_scopes()]:\n",
    "  w.secrets.create_scope(scope=scope_name)\n",
    "\n",
    "token = w.tokens.create(comment=f'pixels_serving_endpoint_token')\n",
    "\n",
    "w.secrets.put_secret(scope=scope_name, key=\"pixels_token\", string_value=token.token_value)"
   ]
  },
  {
   "cell_type": "markdown",
   "metadata": {
    "application/vnd.databricks.v1+cell": {
     "cellMetadata": {
      "byteLimit": 2048000,
      "rowLimit": 10000
     },
     "inputWidgets": {},
     "nuid": "cb5eeb49-62b2-4664-9f8d-972deae2085b",
     "showTitle": false,
     "tableResultSettingsMap": {},
     "title": ""
    }
   },
   "source": [
    "# Create Service Principal and generate access token"
   ]
  },
  {
   "cell_type": "code",
   "execution_count": 0,
   "metadata": {
    "application/vnd.databricks.v1+cell": {
     "cellMetadata": {
      "byteLimit": 2048000,
      "rowLimit": 10000
     },
     "inputWidgets": {},
     "nuid": "9325f8ef-5743-43ed-85b7-57466e88b103",
     "showTitle": false,
     "tableResultSettingsMap": {},
     "title": ""
    }
   },
   "outputs": [],
   "source": [
    "# Create Service Principal\n",
    "def get_or_create_pixels_sp(name=\"pixels-sp\"):\n",
    "    from databricks.sdk import WorkspaceClient\n",
    "    from databricks.sdk.service import iam\n",
    "    \n",
    "    w = WorkspaceClient()\n",
    "\n",
    "    for sp in w.service_principals.list(filter=f\"(DisplayName eq '{name}')\"):\n",
    "        if sp.display_name == name:\n",
    "            return sp\n",
    "        \n",
    "    return w.service_principals.create(display_name=name)\n",
    "\n",
    "sp = get_or_create_pixels_sp()"
   ]
  },
  {
   "cell_type": "code",
   "execution_count": 0,
   "metadata": {
    "application/vnd.databricks.v1+cell": {
     "cellMetadata": {
      "byteLimit": 2048000,
      "rowLimit": 10000
     },
     "inputWidgets": {},
     "nuid": "13417fd0-64ae-447d-9fd3-c2169f954923",
     "showTitle": false,
     "tableResultSettingsMap": {},
     "title": ""
    }
   },
   "outputs": [],
   "source": [
    "#Grant Permissions to Service Principal\n",
    "def grant_permissions_to_sp(table, volume, sp):\n",
    "  from databricks.sdk.service import catalog\n",
    "  from databricks.sdk import WorkspaceClient\n",
    "\n",
    "  w = WorkspaceClient()\n",
    "\n",
    "  #Grant USE CATALOG permissions on CATALOG\n",
    "  w.grants.update(full_name=table.split(\".\")[0],\n",
    "    securable_type=catalog.SecurableType.CATALOG,\n",
    "    changes=[\n",
    "      catalog.PermissionsChange(\n",
    "        add=[catalog.Privilege.USE_CATALOG],\n",
    "        principal=sp.application_id\n",
    "      )\n",
    "    ]\n",
    "  )\n",
    "\n",
    "  #Grant USE SCHEMA permissions on SCHEMA\n",
    "  w.grants.update(full_name=table.split(\".\")[0]+\".\"+table.split(\".\")[1],\n",
    "    securable_type=catalog.SecurableType.SCHEMA,\n",
    "    changes=[\n",
    "      catalog.PermissionsChange(\n",
    "        add=[catalog.Privilege.USE_SCHEMA],\n",
    "        principal=sp.application_id\n",
    "      )\n",
    "    ]\n",
    "  )\n",
    "\n",
    "  #Grant All permissions on TABLE\n",
    "  w.grants.update(full_name=table,\n",
    "    securable_type=catalog.SecurableType.TABLE,\n",
    "    changes=[\n",
    "      catalog.PermissionsChange(\n",
    "        add=[catalog.Privilege.ALL_PRIVILEGES],\n",
    "        principal=sp.application_id\n",
    "      )\n",
    "    ]\n",
    "  )\n",
    "\n",
    "  #Grant All permissions on VOLUME\n",
    "  w.grants.update(full_name=volume,\n",
    "    securable_type=catalog.SecurableType.VOLUME,\n",
    "    changes=[\n",
    "      catalog.PermissionsChange(\n",
    "        add=[catalog.Privilege.ALL_PRIVILEGES],\n",
    "        principal=sp.application_id\n",
    "      )\n",
    "    ]\n",
    "  )\n",
    "\n",
    "  print(\"PERMISSIONS GRANTED\")\n",
    "\n",
    "grant_permissions_to_sp(table, volume, sp)"
   ]
  },
  {
   "cell_type": "code",
   "execution_count": 0,
   "metadata": {
    "application/vnd.databricks.v1+cell": {
     "cellMetadata": {
      "byteLimit": 2048000,
      "rowLimit": 10000
     },
     "inputWidgets": {},
     "nuid": "5b863b8d-ec3f-43a8-98a0-506b7eb0806d",
     "showTitle": false,
     "tableResultSettingsMap": {},
     "title": ""
    }
   },
   "outputs": [],
   "source": [
    "#Service Principal Utils\n",
    "def create_service_principal_secret(service_principal_id):\n",
    "    import requests\n",
    "    from dbruntime.databricks_repl_context import get_context\n",
    "    host = get_context().apiUrl\n",
    "    token = get_context().apiToken\n",
    "\n",
    "    url = f\"{host}/api/2.0/accounts/servicePrincipals/{service_principal_id}/credentials/secrets\"\n",
    "    headers = { \"Authorization\": f\"Bearer {token}\" }\n",
    "    response = requests.post(url, headers=headers)\n",
    "    \n",
    "    if response.status_code != 200:\n",
    "        raise Exception(f\"Error creating service principal secret: {response.text}\")\n",
    "\n",
    "    return response.json()\n",
    "\n",
    "def list_service_principal_secrets(service_principal_id):\n",
    "    import requests\n",
    "    from dbruntime.databricks_repl_context import get_context\n",
    "    host = get_context().apiUrl\n",
    "    token = get_context().apiToken\n",
    "\n",
    "    url = f\"{host}/api/2.0/accounts/servicePrincipals/{service_principal_id}/credentials/secrets\"\n",
    "    headers = { \"Authorization\": f\"Bearer {token}\" }\n",
    "    response = requests.get(url, headers=headers)\n",
    "    return response.json()\n",
    "\n",
    "def delete_service_principal_secret(service_principal_id, secret_id):\n",
    "    import requests\n",
    "    from dbruntime.databricks_repl_context import get_context\n",
    "    host = get_context().apiUrl\n",
    "    token = get_context().apiToken\n",
    "\n",
    "    url = f\"{host}/api/2.0/accounts/servicePrincipals/{service_principal_id}/credentials/secrets/{secret_id}\"\n",
    "    headers = { \"Authorization\": f\"Bearer {token}\" }\n",
    "    response = requests.delete(url, headers=headers)\n",
    "    return response.json()"
   ]
  },
  {
   "cell_type": "code",
   "execution_count": 0,
   "metadata": {
    "application/vnd.databricks.v1+cell": {
     "cellMetadata": {
      "byteLimit": 2048000,
      "rowLimit": 10000
     },
     "inputWidgets": {},
     "nuid": "75fbe9e9-b760-4097-a4f7-8fc9ccf4fe52",
     "showTitle": false,
     "tableResultSettingsMap": {},
     "title": ""
    }
   },
   "outputs": [],
   "source": [
    "# Create the secret scope, and secrets with sp_id and sp_secret\n",
    "w = WorkspaceClient()\n",
    "\n",
    "if scope_name not in [scope.name for scope in w.secrets.list_scopes()]:\n",
    "  w.secrets.create_scope(scope=scope_name)\n",
    "\n",
    "w.secrets.put_secret(scope=scope_name, key=sp_id_key, string_value=sp.application_id)\n",
    "w.secrets.put_secret(scope=scope_name, key=sp_secret_key, string_value=create_service_principal_secret(sp.id)['secret'])"
   ]
  },
  {
   "cell_type": "code",
   "execution_count": 0,
   "metadata": {
    "application/vnd.databricks.v1+cell": {
     "cellMetadata": {
      "byteLimit": 2048000,
      "rowLimit": 10000
     },
     "inputWidgets": {},
     "nuid": "f1b4951b-4d79-46d2-aa78-02fa04cbb29a",
     "showTitle": false,
     "tableResultSettingsMap": {},
     "title": ""
    }
   },
   "outputs": [],
   "source": [
    "#Create token from service principal | Used as example here, this will be automatically generated by the Serving Endpoint\n",
    "def create_token_from_service_principal(scope, sp_id_key, sp_secret_key):\n",
    "    import requests\n",
    "    from dbruntime.databricks_repl_context import get_context\n",
    "\n",
    "    host = get_context().apiUrl\n",
    "\n",
    "    url = f\"{host}/oidc/v1/token\"\n",
    "    data = \"grant_type=client_credentials&scope=all-apis\"\n",
    "    header = { \"Content-Type\": \"application/x-www-form-urlencoded\" }\n",
    "    auth = (dbutils.secrets.get(scope=scope_name, key=sp_id_key), dbutils.secrets.get(scope=scope_name, key=sp_secret_key))\n",
    "    response = requests.post(url, data=data, headers=header, auth=auth)\n",
    "    return response.json()\n",
    "\n",
    "token = create_token_from_service_principal(scope_name, sp_id_key, sp_secret_key)\n",
    "w.secrets.put_secret(scope=scope_name, key=token_key, string_value=token['access_token'])"
   ]
  },
  {
   "cell_type": "code",
   "execution_count": 0,
   "metadata": {
    "application/vnd.databricks.v1+cell": {
     "cellMetadata": {
      "byteLimit": 2048000,
      "rowLimit": 10000
     },
     "inputWidgets": {},
     "nuid": "1033a5e6-8699-4d30-984d-f55996b8851e",
     "showTitle": false,
     "tableResultSettingsMap": {},
     "title": ""
    }
   },
   "outputs": [],
   "source": [
    "from mlflow.deployments import get_deploy_client\n",
    "\n",
    "client = get_deploy_client(\"databricks\")\n",
    "\n",
    "model_version = latest_model.version\n",
    "\n",
    "secret_template = \"secrets/{scope}/{key}\"\n",
    "\n",
    "token = \"{{\" + secret_template.format(scope=scope_name, key=token_key) + \"}}\"\n",
    "client_id = \"{{\" + secret_template.format(scope=scope_name, key=sp_id_key) + \"}}\"\n",
    "client_secret = \"{{\" + secret_template.format(scope=scope_name, key=sp_secret_key) + \"}}\"\n",
    "\n",
    "env_vars = {\n",
    "    'DATABRICKS_HOST': os.environ[\"DATABRICKS_HOST\"],\n",
    "    'DATABRICKS_PIXELS_TABLE': os.environ[\"DATABRICKS_PIXELS_TABLE\"],\n",
    "    'DATABRICKS_WAREHOUSE_ID': os.environ[\"DATABRICKS_WAREHOUSE_ID\"],\n",
    "    'DEST_DIR': os.environ[\"DEST_DIR\"]\n",
    "}\n",
    "\n",
    "if sp is not None:\n",
    "    env_vars['DATABRICKS_SCOPE'] = scope_name\n",
    "    env_vars['CLIENT_ID'] = client_id,\n",
    "    env_vars['CLIENT_SECRET'] = client_secret\n",
    "else:\n",
    "    env_vars['DATABRICKS_TOKEN'] = token\n",
    "\n",
    "endpoint = client.create_endpoint(\n",
    "    name=serving_endpoint_name,\n",
    "    config={\n",
    "        \"served_entities\": [\n",
    "            {\n",
    "                'entity_name': model_uc_name,\n",
    "                \"entity_version\": model_version,\n",
    "                \"workload_size\": \"Small\",\n",
    "                \"workload_type\": \"GPU_MEDIUM\",\n",
    "                \"scale_to_zero_enabled\": True,\n",
    "                'environment_vars': env_vars,\n",
    "            }\n",
    "        ]\n",
    "    }\n",
    ")\n",
    "\n",
    "print(\"SERVING ENDPOINT CREATED:\", serving_endpoint_name)\n"
   ]
  },
  {
   "cell_type": "markdown",
   "metadata": {
    "application/vnd.databricks.v1+cell": {
     "cellMetadata": {
      "byteLimit": 2048000,
      "rowLimit": 10000
     },
     "inputWidgets": {},
     "nuid": "faa8cf35-984f-41fa-b583-fa487449f0ef",
     "showTitle": false,
     "tableResultSettingsMap": {},
     "title": ""
    }
   },
   "source": [
    "## Test the connection and execute inference using Serving Endpoint with Vista3D model"
   ]
  },
  {
   "cell_type": "code",
   "execution_count": 0,
   "metadata": {
    "application/vnd.databricks.v1+cell": {
     "cellMetadata": {
      "byteLimit": 2048000,
      "rowLimit": 10000
     },
     "inputWidgets": {},
     "nuid": "531aa64b-38b4-41ff-a68f-3a68f429be34",
     "showTitle": false,
     "tableResultSettingsMap": {},
     "title": ""
    }
   },
   "outputs": [],
   "source": [
    "import time\n",
    "from mlflow.deployments import get_deploy_client\n",
    "\n",
    "client = get_deploy_client(\"databricks\")\n",
    "\n",
    "def wait_for_endpoint_ready(endpoint_name, client, timeout=1800, interval=10):\n",
    "    start_time = time.time()\n",
    "    while time.time() - start_time < timeout:\n",
    "        endpoint_status = client.get_endpoint(endpoint_name)\n",
    "        if endpoint_status['state']['ready'] == \"READY\":\n",
    "            print(f\"Endpoint {endpoint_name} is ready.\")\n",
    "            return\n",
    "        time.sleep(interval)\n",
    "    raise TimeoutError(f\"Endpoint {endpoint_name} did not become ready within {timeout} seconds.\")\n",
    "\n",
    "wait_for_endpoint_ready(serving_endpoint_name, client)"
   ]
  },
  {
   "cell_type": "code",
   "execution_count": 0,
   "metadata": {
    "application/vnd.databricks.v1+cell": {
     "cellMetadata": {
      "byteLimit": 2048000,
      "implicitDf": true,
      "rowLimit": 10000
     },
     "inputWidgets": {},
     "nuid": "85e06d37-072f-441f-8409-8f6d0cfcb052",
     "showTitle": false,
     "tableResultSettingsMap": {},
     "title": ""
    }
   },
   "outputs": [],
   "source": [
    "from dbx.pixels.modelserving.vista3d.servingendpoint import Vista3DMONAITransformer\n",
    "\n",
    "df = spark.table(table)\n",
    "\n",
    "df_monai = Vista3DMONAITransformer(table=table, destDir=os.environ[\"DEST_DIR\"], endpoint_name=\"pixels-monai-uc-vista3d\", exportMetrics=True).transform(df)\n",
    "display(df_monai)"
   ]
  },
  {
   "cell_type": "markdown",
   "metadata": {
    "application/vnd.databricks.v1+cell": {
     "cellMetadata": {},
     "inputWidgets": {},
     "nuid": "e13d1545-29cb-4dbd-a2eb-a1410a02c16c",
     "showTitle": false,
     "tableResultSettingsMap": {},
     "title": ""
    }
   },
   "source": [
    "### Initialize a Vista3DGPUTransformer to process the pixels' catalog table using GPU resources."
   ]
  },
  {
   "cell_type": "code",
   "execution_count": 0,
   "metadata": {
    "application/vnd.databricks.v1+cell": {
     "cellMetadata": {
      "byteLimit": 2048000,
      "rowLimit": 10000
     },
     "inputWidgets": {},
     "nuid": "904dcf11-8b6f-4fed-9914-e46daf883f50",
     "showTitle": false,
     "tableResultSettingsMap": {},
     "title": ""
    }
   },
   "outputs": [],
   "source": [
    "import torch\n",
    "from dbx.pixels.modelserving.vista3d.gpu import Vista3DGPUTransformer\n",
    "\n",
    "gpuCount = int(spark.conf.get(\"spark.executor.resource.gpu.amount\",\"0\") or torch.cuda.device_count())\n",
    "nWorkers = (int(spark.conf.get(\"spark.databricks.clusterUsageTags.clusterWorkers\")) or 1)\n",
    "tasksPerGpu = int(spark.conf.get(\"spark.task.resource.gpu.amount\",\"1\"))\n",
    "\n",
    "df = spark.table(table)\n",
    "\n",
    "df_monai = Vista3DGPUTransformer(inputCol=\"meta\", \n",
    "                                 table=table, \n",
    "                                 destDir=os.environ[\"DEST_DIR\"], \n",
    "                                 sqlWarehouseId=os.environ[\"DATABRICKS_WAREHOUSE_ID\"], \n",
    "                                 labelPrompt=None, exportMetrics=True, exportOverlays=False, \n",
    "                                 secret=os.environ[\"DATABRICKS_TOKEN\"], \n",
    "                                 host=os.environ[\"DATABRICKS_HOST\"], \n",
    "                                 gpuCount=gpuCount, nWorkers=nWorkers, tasksPerGpu=tasksPerGpu).transform(df)\n",
    "\n",
    "#display(df_monai)\n",
    "\n",
    "# Test performance using noop\n",
    "#df_monai.write.format(\"noop\").mode(\"overwrite\").save()"
   ]
  }
 ],
 "metadata": {
  "application/vnd.databricks.v1+notebook": {
   "computePreferences": {
    "hardware": {
     "accelerator": null,
     "gpuPoolId": null,
     "memory": null
    }
   },
   "dashboards": [],
   "environmentMetadata": {
    "base_environment": "",
    "environment_version": "2"
   },
   "inputWidgetPreferences": null,
   "language": "python",
   "notebookMetadata": {
    "mostRecentlyExecutedCommandWithImplicitDF": {
     "commandId": 2860937171015574,
     "dataframes": [
      "_sqldf"
     ]
    },
    "pythonIndentUnit": 2,
    "widgetLayout": []
   },
   "notebookName": "VISTA3D",
   "widgets": {
    "model_uc_name": {
     "currentValue": "ema_rina.pixels_solacc.monai_vista3d",
     "nuid": "2e57516f-6ba8-4800-92ed-e3647f40dd5f",
     "typedWidgetInfo": {
      "autoCreated": false,
      "defaultValue": "main.pixels_solacc.monai_pixels_model",
      "label": "3.0 Model name stored in UC",
      "name": "model_uc_name",
      "options": {
       "widgetDisplayType": "Text",
       "validationRegex": null
      },
      "parameterDataType": "String"
     },
     "widgetInfo": {
      "widgetType": "text",
      "defaultValue": "main.pixels_solacc.monai_pixels_model",
      "label": "3.0 Model name stored in UC",
      "name": "model_uc_name",
      "options": {
       "widgetType": "text",
       "autoCreated": null,
       "validationRegex": null
      }
     }
    },
    "serving_endpoint_name": {
     "currentValue": "pixels-monai-uc-vista3d",
     "nuid": "94dcc3e2-28eb-4102-befd-00b3eb0136c2",
     "typedWidgetInfo": {
      "autoCreated": false,
      "defaultValue": "pixels-monai-uc",
      "label": "4.0 Serving Endpoint name",
      "name": "serving_endpoint_name",
      "options": {
       "widgetDisplayType": "Text",
       "validationRegex": null
      },
      "parameterDataType": "String"
     },
     "widgetInfo": {
      "widgetType": "text",
      "defaultValue": "pixels-monai-uc",
      "label": "4.0 Serving Endpoint name",
      "name": "serving_endpoint_name",
      "options": {
       "widgetType": "text",
       "autoCreated": null,
       "validationRegex": null
      }
     }
    },
    "sqlWarehouseID": {
     "currentValue": "8baced1ff014912d",
     "nuid": "5c215d79-f711-410e-9e48-35bb4a209662",
     "typedWidgetInfo": {
      "autoCreated": false,
      "defaultValue": "",
      "label": "2.0 SQL Warehouse",
      "name": "sqlWarehouseID",
      "options": {
       "widgetDisplayType": "Text",
       "validationRegex": null
      },
      "parameterDataType": "String"
     },
     "widgetInfo": {
      "widgetType": "text",
      "defaultValue": "",
      "label": "2.0 SQL Warehouse",
      "name": "sqlWarehouseID",
      "options": {
       "widgetType": "text",
       "autoCreated": null,
       "validationRegex": null
      }
     }
    },
    "table": {
     "currentValue": "ema_rina.pixels_solacc.object_catalog",
     "nuid": "90a12a78-fd67-4fd3-a308-a907745f66a1",
     "typedWidgetInfo": {
      "autoCreated": false,
      "defaultValue": "main.pixels_solacc.object_catalog",
      "label": "1.0 Catalog Schema Table to store object metadata into",
      "name": "table",
      "options": {
       "widgetDisplayType": "Text",
       "validationRegex": null
      },
      "parameterDataType": "String"
     },
     "widgetInfo": {
      "widgetType": "text",
      "defaultValue": "main.pixels_solacc.object_catalog",
      "label": "1.0 Catalog Schema Table to store object metadata into",
      "name": "table",
      "options": {
       "widgetType": "text",
       "autoCreated": null,
       "validationRegex": null
      }
     }
    },
    "volume": {
     "currentValue": "ema_rina.pixels_solacc.pixels_volume",
     "nuid": "987d301a-948f-4fa0-b5c7-b4bcfab9c1da",
     "typedWidgetInfo": {
      "autoCreated": false,
      "defaultValue": "main.pixels_solacc.pixels_volume",
      "label": "3.0 Catalog Schema Volume where pixel volumes are stored into",
      "name": "volume",
      "options": {
       "widgetDisplayType": "Text",
       "validationRegex": null
      },
      "parameterDataType": "String"
     },
     "widgetInfo": {
      "widgetType": "text",
      "defaultValue": "main.pixels_solacc.pixels_volume",
      "label": "3.0 Catalog Schema Volume where pixel volumes are stored into",
      "name": "volume",
      "options": {
       "widgetType": "text",
       "autoCreated": null,
       "validationRegex": null
      }
     }
    }
   }
  },
  "language_info": {
   "name": "python"
  }
 },
 "nbformat": 4,
 "nbformat_minor": 0
}
