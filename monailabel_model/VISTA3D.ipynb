{
 "cells": [
  {
   "cell_type": "markdown",
   "metadata": {
    "application/vnd.databricks.v1+cell": {
     "cellMetadata": {},
     "inputWidgets": {},
     "nuid": "0a4bac86-1351-4001-b286-bd33351bc324",
     "showTitle": false,
     "tableResultSettingsMap": {},
     "title": ""
    }
   },
   "source": [
    "# VISTA3D - 14.3 LTS  ML - CUDA11\n",
    "\n",
    "https://catalog.ngc.nvidia.com/orgs/nvidia/teams/monaitoolkit/models/monai_vista3d\n",
    "\n",
    "---\n",
    "\n",
    "### Vista3D - Code License\n",
    "This project includes code licensed under the Apache License 2.0. [LINK](https://github.com/Project-MONAI/VISTA/blob/main/vista3d/LICENSE)\n",
    "\n",
    "### Vista3D - Model Weights License\n",
    "The model weights included in this project are licensed under the NCLS v1 License. [NVIDIA OneWay Noncommercial License](https://github.com/Project-MONAI/VISTA/blob/main/vista3d/NVIDIA%20OneWay%20Noncommercial%20License.txt)\n",
    "\n",
    "---\n"
   ]
  },
  {
   "cell_type": "code",
   "execution_count": 0,
   "metadata": {
    "application/vnd.databricks.v1+cell": {
     "cellMetadata": {
      "byteLimit": 2048000,
      "rowLimit": 10000
     },
     "inputWidgets": {},
     "nuid": "6bf8cfd7-9108-4f29-867e-0a0f3765d088",
     "showTitle": false,
     "tableResultSettingsMap": {},
     "title": ""
    }
   },
   "outputs": [],
   "source": [
    "%pip install -r vista3d/requirements.txt\n",
    "%pip install https://github.com/erinaldidb/MONAILabel_DB/releases/download/v0.8.5/monailabel-0.8.5-py3-none-any.whl --no-deps\n",
    "%pip install monai==1.4.0 pytorch-ignite --no-deps\n",
    "%pip install databricks-sdk==0.36 --upgrade"
   ]
  },
  {
   "cell_type": "code",
   "execution_count": 0,
   "metadata": {
    "application/vnd.databricks.v1+cell": {
     "cellMetadata": {
      "byteLimit": 2048000,
      "rowLimit": 10000
     },
     "inputWidgets": {},
     "nuid": "30172d2f-62d4-44c2-a142-4ef1a9b263fa",
     "showTitle": false,
     "tableResultSettingsMap": {},
     "title": ""
    }
   },
   "outputs": [],
   "source": [
    "dbutils.library.restartPython()"
   ]
  },
  {
   "cell_type": "code",
   "execution_count": 0,
   "metadata": {
    "application/vnd.databricks.v1+cell": {
     "cellMetadata": {
      "byteLimit": 2048000,
      "rowLimit": 10000
     },
     "inputWidgets": {},
     "nuid": "0a2f8341-507a-4919-aa36-4365df2142ba",
     "showTitle": false,
     "tableResultSettingsMap": {},
     "title": ""
    }
   },
   "outputs": [],
   "source": [
    "%run ../config/proxy_prep"
   ]
  },
  {
   "cell_type": "code",
   "execution_count": 0,
   "metadata": {
    "application/vnd.databricks.v1+cell": {
     "cellMetadata": {
      "byteLimit": 2048000,
      "rowLimit": 10000
     },
     "inputWidgets": {},
     "nuid": "13b843fb-0477-488e-ae6b-2732d70abd4e",
     "showTitle": false,
     "tableResultSettingsMap": {},
     "title": ""
    }
   },
   "outputs": [],
   "source": [
    "sql_warehouse_id, table = init_widgets()\n",
    "model_uc_name, serving_endpoint_name = init_model_serving_widgets()"
   ]
  },
  {
   "cell_type": "code",
   "execution_count": 0,
   "metadata": {
    "application/vnd.databricks.v1+cell": {
     "cellMetadata": {
      "byteLimit": 2048000,
      "rowLimit": 10000
     },
     "inputWidgets": {},
     "nuid": "1a4931f9-2d40-4adc-b2f0-6db518e49d09",
     "showTitle": false,
     "tableResultSettingsMap": {},
     "title": ""
    }
   },
   "outputs": [],
   "source": [
    "init_env()\n",
    "\n",
    "os.environ[\"DEST_DIR\"] = \"/Volumes/main/pixels_solacc/pixels_volume/monai_serving/vista3d/\""
   ]
  },
  {
   "cell_type": "code",
   "execution_count": 0,
   "metadata": {
    "application/vnd.databricks.v1+cell": {
     "cellMetadata": {
      "byteLimit": 2048000,
      "rowLimit": 10000
     },
     "inputWidgets": {},
     "nuid": "3205c661-a667-4d22-aae8-3eaf51d71436",
     "showTitle": false,
     "tableResultSettingsMap": {},
     "title": ""
    }
   },
   "outputs": [],
   "source": [
    "from vista3d.code.dbvista3dmodel import DBVISTA3DModel\n",
    "\n",
    "model = DBVISTA3DModel(volumes_compatible=True)"
   ]
  },
  {
   "cell_type": "code",
   "execution_count": 0,
   "metadata": {
    "application/vnd.databricks.v1+cell": {
     "cellMetadata": {
      "byteLimit": 2048000,
      "rowLimit": 10000
     },
     "collapsed": true,
     "inputWidgets": {},
     "nuid": "84dec393-35c7-4c75-b2d2-8ea37f3566a3",
     "showTitle": false,
     "tableResultSettingsMap": {},
     "title": ""
    }
   },
   "outputs": [],
   "source": [
    "from mlflow.models import infer_signature\n",
    "from typing import Optional\n",
    "\n",
    "input_examples = [\n",
    "      { \"input\": { \"action\": \"info\" }},                   #retrieve informations about the monailabel server\n",
    "      { \"input\": { \"action\": \"activelearning/random\" }},  #randomly return the next series_uid useful to label\n",
    "      { \"input\": {                                        #train the model based on labelled series\n",
    "        \"train\": {\n",
    "          'name': 'train_01',\n",
    "          'pretrained': True,\n",
    "          'device': ['NVIDIA A10G'],\n",
    "          'max_epochs': 50,\n",
    "          'early_stop_patience': -1,\n",
    "          'val_split': 0.2,\n",
    "          'train_batch_size': 1,\n",
    "          'val_batch_size': 1,\n",
    "          'multi_gpu': True,\n",
    "          'gpus': 'all',\n",
    "          'dataset': 'SmartCacheDataset',\n",
    "          'dataloader': 'ThreadDataLoader',\n",
    "          'tracking': 'mlflow',\n",
    "          'tracking_uri': '',\n",
    "          'tracking_experiment_name': '',\n",
    "          'model': 'segmentation'\n",
    "          }\n",
    "       }\n",
    "      },\n",
    "      { 'input': {                                        #train the model based on labelled series with mandatory fields\n",
    "        'train': {\n",
    "          'name': 'train_01',\n",
    "          'pretrained': True,\n",
    "          'max_epochs': 50,\n",
    "          'val_split': 0.2,\n",
    "          'train_batch_size': 1,\n",
    "          'val_batch_size': 1,\n",
    "          'gpus': 'all',\n",
    "          'model': 'segmentation'\n",
    "          }\n",
    "       }\n",
    "      },                      \n",
    "      { 'input': {                                        #trigger the inference on a single DICOM series given the series uid, used in OHIF Viewer\n",
    "        'infer': {\n",
    "          'largest_cc': False,\n",
    "          'device': ['NVIDIA A10G'],\n",
    "          'result_extension': '.nrrd',\n",
    "          'result_dtype': 'uint16',\n",
    "          'result_compress': False,\n",
    "          'restore_label_idx': False,\n",
    "          'model': 'vista3d',\n",
    "          'image': '1.2.156.14702.1.1000.16.1.2020031111365289000020001',\n",
    "          'export_metrics': False,\n",
    "          'export_overlays': False,\n",
    "          'points': [[10,10,10],[20,20,20]], #list of x,y,z points\n",
    "          'point_labels': [0,1],\n",
    "          'pixels_table': \"main.pixels_solacc.object_catalog\"\n",
    "          }\n",
    "       }\n",
    "      },\n",
    "      { 'input': {                                        #trigger the inference on a single DICOM series given the series uid, used in OHIF Viewer with mandatory fields\n",
    "        'infer': {\n",
    "          'model': 'vista3d',\n",
    "          'image': '1.2.156.14702.1.1000.16.1.2020031111365289000020001',\n",
    "          'label_prompt': [1,26]\n",
    "          }\n",
    "       }\n",
    "      },\n",
    "      { 'input': {                                        #Return the file from the inference, used in OHIF Viewer\n",
    "        'get_file': '/tmp/vista/bundles/vista3d/models/prediction/1.2.156.14702.1.1000.16.1.2020031111365289000020001/1.2.156.14702.1.1000.16.1.2020031111365289000020001_seg.nii.gz',\n",
    "        'result_dtype': 'uint8'\n",
    "       }\n",
    "      },\n",
    "      { 'series_uid': '1.2.156.14702.1.1000.16.1.2020031111365293700020003',\n",
    "        'params' : {\n",
    "          'label_prompt' : [1,26],\n",
    "          'export_metrics': False,\n",
    "          'export_overlays': False,\n",
    "          'points': [[100,100,100],[200,200,200]],\n",
    "          'point_labels': [0,1],\n",
    "          'dest_dir': '/Volumes/main/pixels_solacc/pixels_volume/monai_serving/vista3d',\n",
    "          'pixels_table': \"main.pixels_solacc.object_catalog\",\n",
    "          'torch_device': 0\n",
    "        }\n",
    "      },\n",
    "      { 'series_uid': '1.2.156.14702.1.1000.16.1.2020031111365293700020003',\n",
    "       'params' : {},\n",
    "      },\n",
    "      { 'series_uid': '1.2.156.14702.1.1000.16.1.2020031111365293700020003'}\n",
    "]\n",
    "\n",
    "signature = infer_signature(input_examples, model_output=\"\")\n",
    "signature.inputs.to_json()"
   ]
  },
  {
   "cell_type": "code",
   "execution_count": 0,
   "metadata": {
    "application/vnd.databricks.v1+cell": {
     "cellMetadata": {
      "byteLimit": 2048000,
      "rowLimit": 10000
     },
     "inputWidgets": {},
     "nuid": "840efa61-520b-4a9d-9c1c-bc26039ab856",
     "showTitle": false,
     "tableResultSettingsMap": {},
     "title": ""
    }
   },
   "outputs": [],
   "source": [
    "model.load_context(context=None)"
   ]
  },
  {
   "cell_type": "code",
   "execution_count": 0,
   "metadata": {
    "application/vnd.databricks.v1+cell": {
     "cellMetadata": {
      "byteLimit": 2048000,
      "rowLimit": 10000
     },
     "inputWidgets": {},
     "nuid": "56018f41-ce73-4a97-bc02-0f84e7983658",
     "showTitle": false,
     "tableResultSettingsMap": {},
     "title": ""
    }
   },
   "outputs": [],
   "source": [
    "import pandas as pd\n",
    "import json\n",
    "\n",
    "label_prompt = [\"liver\", \"hepatic tumor\"]\n",
    "\n",
    "label_dict_path = \"vista3d/code/vista3d_bundle/data/jsons/label_dict.json\"\n",
    "label_dict = json.load(open(label_dict_path))\n",
    "label_index = [label_dict[label.strip()] for label in label_prompt if label.strip() in label_dict]\n",
    "\n",
    "series_uid = \"1.2.156.14702.1.1000.16.1.2020031111365293700020003\"\n",
    "\n",
    "input = { \"series_uid\": series_uid, \"params\": {\n",
    "  \"label_prompt\": [1,26],\n",
    "  \"export_metrics\": False,\n",
    "  \"export_overlays\": False,\n",
    "  \"dest_dir\": \"/Volumes/main/pixels_solacc/pixels_volume/monai_serving/vista3d\",\n",
    "  \"pixels_table\" : table\n",
    "  }\n",
    "}\n",
    "\n",
    "df = pd.DataFrame([input])\n",
    "\n",
    "print(df.to_json())\n",
    "\n",
    "result = model.predict(None, df)"
   ]
  },
  {
   "cell_type": "code",
   "execution_count": 0,
   "metadata": {
    "application/vnd.databricks.v1+cell": {
     "cellMetadata": {
      "byteLimit": 2048000,
      "rowLimit": 10000
     },
     "inputWidgets": {},
     "nuid": "8a68c8bd-31f0-487a-b43a-7e90f59032d7",
     "showTitle": false,
     "tableResultSettingsMap": {},
     "title": ""
    }
   },
   "outputs": [],
   "source": [
    "import mlflow\n",
    "\n",
    "# Save the function as a model\n",
    "with mlflow.start_run():\n",
    "    mlflow.pyfunc.log_model(\n",
    "        \"DBVISTA3DModel\",\n",
    "        python_model=DBVISTA3DModel(),\n",
    "        conda_env=\"./vista3d/conda.yaml\",\n",
    "        signature=signature,\n",
    "        code_paths=[\"./vista3d\", \"./common\", \"./lib\"]\n",
    "    )\n",
    "    run_id = mlflow.active_run().info.run_id\n",
    "    print(run_id)"
   ]
  },
  {
   "cell_type": "code",
   "execution_count": 0,
   "metadata": {
    "application/vnd.databricks.v1+cell": {
     "cellMetadata": {
      "byteLimit": 2048000,
      "rowLimit": 10000
     },
     "inputWidgets": {},
     "nuid": "27f3320a-8537-4ba1-b4c1-835e22153352",
     "showTitle": false,
     "tableResultSettingsMap": {},
     "title": ""
    }
   },
   "outputs": [],
   "source": [
    "model_uri = \"runs:/{}/DBVISTA3DModel\".format(run_id)\n",
    "latest_model = mlflow.register_model(model_uri, model_uc_name)"
   ]
  },
  {
   "cell_type": "code",
   "execution_count": 0,
   "metadata": {
    "application/vnd.databricks.v1+cell": {
     "cellMetadata": {
      "byteLimit": 2048000,
      "rowLimit": 10000
     },
     "inputWidgets": {},
     "nuid": "d39477da-01b0-42bd-a3f3-8cc713a2d0a5",
     "showTitle": false,
     "tableResultSettingsMap": {},
     "title": ""
    }
   },
   "outputs": [],
   "source": [
    "from databricks.sdk import WorkspaceClient\n",
    "\n",
    "w = WorkspaceClient()\n",
    "\n",
    "scope_name = \"pixels-scope\"\n",
    "\n",
    "if scope_name not in [scope.name for scope in w.secrets.list_scopes()]:\n",
    "  w.secrets.create_scope(scope=scope_name)\n",
    "\n",
    "token = w.tokens.create(comment=f'pixels_serving_endpoint_token')\n",
    "\n",
    "w.secrets.put_secret(scope=scope_name, key=\"pixels_token\", string_value=token.token_value)"
   ]
  },
  {
   "cell_type": "code",
   "execution_count": 0,
   "metadata": {
    "application/vnd.databricks.v1+cell": {
     "cellMetadata": {
      "byteLimit": 2048000,
      "rowLimit": 10000
     },
     "inputWidgets": {},
     "nuid": "1033a5e6-8699-4d30-984d-f55996b8851e",
     "showTitle": false,
     "tableResultSettingsMap": {},
     "title": ""
    }
   },
   "outputs": [],
   "source": [
    "from mlflow.deployments import get_deploy_client\n",
    "\n",
    "client = get_deploy_client(\"databricks\")\n",
    "\n",
    "model_version = latest_model.version\n",
    "\n",
    "token_secret = \"{{secrets/pixels-scope/pixels_token}}\"\n",
    "\n",
    "endpoint = client.create_endpoint(\n",
    "    name=serving_endpoint_name,\n",
    "    config={\n",
    "        \"served_entities\": [\n",
    "            {\n",
    "                'name': 'pixels_monailabel-vista3d',\n",
    "                'entity_name': model_uc_name,\n",
    "                \"entity_version\": model_version,\n",
    "                \"workload_size\": \"Small\",\n",
    "                \"workload_type\": \"GPU_MEDIUM\",\n",
    "                \"scale_to_zero_enabled\": True,\n",
    "                'environment_vars': {\n",
    "                  'DATABRICKS_TOKEN': token_secret,\n",
    "                  'DATABRICKS_HOST': os.environ[\"DATABRICKS_HOST\"],\n",
    "                  'DATABRICKS_PIXELS_TABLE': os.environ[\"DATABRICKS_PIXELS_TABLE\"],\n",
    "                  'DATABRICKS_WAREHOUSE_ID': os.environ[\"DATABRICKS_WAREHOUSE_ID\"],\n",
    "                  'DEST_DIR': os.environ[\"DEST_DIR\"]\n",
    "                },\n",
    "            }\n",
    "        ]\n",
    "    }\n",
    ")\n",
    "\n",
    "print(\"SERVING ENDPOINT CREATED:\", serving_endpoint_name)\n"
   ]
  }
 ],
 "metadata": {
  "application/vnd.databricks.v1+notebook": {
   "computePreferences": {
    "hardware": {
     "accelerator": null,
     "gpuPoolId": null,
     "memory": null
    }
   },
   "dashboards": [],
   "environmentMetadata": {
    "base_environment": "",
    "environment_version": "2"
   },
   "inputWidgetPreferences": null,
   "language": "python",
   "notebookMetadata": {
    "mostRecentlyExecutedCommandWithImplicitDF": {
     "commandId": 990384398422162,
     "dataframes": [
      "_sqldf"
     ]
    },
    "pythonIndentUnit": 4,
    "widgetLayout": []
   },
   "notebookName": "VISTA3D",
   "widgets": {
    "model_uc_name": {
     "currentValue": "ema_rina.pixels_solacc_vista3d.monai_pixels_model",
     "nuid": "2e57516f-6ba8-4800-92ed-e3647f40dd5f",
     "typedWidgetInfo": {
      "autoCreated": false,
      "defaultValue": "main.pixels_solacc.monai_pixels_model",
      "label": "3.0 Model name stored in UC",
      "name": "model_uc_name",
      "options": {
       "widgetDisplayType": "Text",
       "validationRegex": null
      },
      "parameterDataType": "String"
     },
     "widgetInfo": {
      "widgetType": "text",
      "defaultValue": "main.pixels_solacc.monai_pixels_model",
      "label": "3.0 Model name stored in UC",
      "name": "model_uc_name",
      "options": {
       "widgetType": "text",
       "autoCreated": null,
       "validationRegex": null
      }
     }
    },
    "serving_endpoint_name": {
     "currentValue": "pixels-monai-uc-vista3d",
     "nuid": "94dcc3e2-28eb-4102-befd-00b3eb0136c2",
     "typedWidgetInfo": {
      "autoCreated": false,
      "defaultValue": "pixels-monai-uc",
      "label": "4.0 Serving Endpoint name",
      "name": "serving_endpoint_name",
      "options": {
       "widgetDisplayType": "Text",
       "validationRegex": null
      },
      "parameterDataType": "String"
     },
     "widgetInfo": {
      "widgetType": "text",
      "defaultValue": "pixels-monai-uc",
      "label": "4.0 Serving Endpoint name",
      "name": "serving_endpoint_name",
      "options": {
       "widgetType": "text",
       "autoCreated": null,
       "validationRegex": null
      }
     }
    },
    "sqlWarehouseID": {
     "currentValue": "e5e9c9bae3a48689",
     "nuid": "5c215d79-f711-410e-9e48-35bb4a209662",
     "typedWidgetInfo": {
      "autoCreated": false,
      "defaultValue": "",
      "label": "2.0 SQL Warehouse",
      "name": "sqlWarehouseID",
      "options": {
       "widgetDisplayType": "Text",
       "validationRegex": null
      },
      "parameterDataType": "String"
     },
     "widgetInfo": {
      "widgetType": "text",
      "defaultValue": "",
      "label": "2.0 SQL Warehouse",
      "name": "sqlWarehouseID",
      "options": {
       "widgetType": "text",
       "autoCreated": null,
       "validationRegex": null
      }
     }
    },
    "table": {
     "currentValue": "ema_rina.pixels_solacc_vista3d.object_catalog",
     "nuid": "90a12a78-fd67-4fd3-a308-a907745f66a1",
     "typedWidgetInfo": {
      "autoCreated": false,
      "defaultValue": "main.pixels_solacc.object_catalog",
      "label": "1.0 Catalog Schema Table to store object metadata into",
      "name": "table",
      "options": {
       "widgetDisplayType": "Text",
       "validationRegex": null
      },
      "parameterDataType": "String"
     },
     "widgetInfo": {
      "widgetType": "text",
      "defaultValue": "main.pixels_solacc.object_catalog",
      "label": "1.0 Catalog Schema Table to store object metadata into",
      "name": "table",
      "options": {
       "widgetType": "text",
       "autoCreated": null,
       "validationRegex": null
      }
     }
    }
   }
  },
  "language_info": {
   "name": "python"
  }
 },
 "nbformat": 4,
 "nbformat_minor": 0
}
